{
 "cells": [
  {
   "cell_type": "markdown",
   "id": "ad78bb90",
   "metadata": {},
   "source": [
    "# Building a Predictive Model to predict the Sales of a given retail store."
   ]
  },
  {
   "cell_type": "code",
   "execution_count": 209,
   "id": "3485e69a",
   "metadata": {},
   "outputs": [],
   "source": [
    "workdata <- read.csv(\"RetailStoreSalesData.csv\")           #Import data set"
   ]
  },
  {
   "cell_type": "code",
   "execution_count": 210,
   "id": "1ffd37b1",
   "metadata": {
    "scrolled": true
   },
   "outputs": [
    {
     "data": {
      "text/plain": [
       "    OrderID       OrderDate          CustomerID         EmployeeID       \n",
       " Min.   :10248   Length:2289        Length:2289        Length:2289       \n",
       " 1st Qu.:10463   Class :character   Class :character   Class :character  \n",
       " Median :10684   Mode  :character   Mode  :character   Mode  :character  \n",
       " Mean   :10696                                                           \n",
       " 3rd Qu.:10908                                                           \n",
       " Max.   :11367                                                           \n",
       "   ShipperID      ProductID         Sales              Costs         \n",
       " Min.   :1.00   Min.   : 1.00   Min.   :    2.12   Min.   :    1.83  \n",
       " 1st Qu.:2.00   1st Qu.:21.00   1st Qu.:  151.58   1st Qu.:  122.21  \n",
       " Median :2.00   Median :41.00   Median :  351.72   Median :  282.10  \n",
       " Mean   :1.99   Mean   :40.68   Mean   :  819.13   Mean   :  652.71  \n",
       " 3rd Qu.:2.00   3rd Qu.:60.00   3rd Qu.:  788.10   3rd Qu.:  634.13  \n",
       " Max.   :3.00   Max.   :77.00   Max.   :43755.12   Max.   :32160.01  \n",
       "     Profit            Quantity        Discount          Freight     \n",
       " Min.   :    0.27   Min.   :  1.0   Min.   :   0.00   Min.   :12.45  \n",
       " 1st Qu.:   24.99   1st Qu.: 10.0   1st Qu.:   0.00   1st Qu.:35.04  \n",
       " Median :   63.04   Median : 20.0   Median :   0.00   Median :50.67  \n",
       " Mean   :  166.42   Mean   : 23.9   Mean   :  48.69   Mean   :50.48  \n",
       " 3rd Qu.:  145.56   3rd Qu.: 30.0   3rd Qu.:  25.70   3rd Qu.:65.53  \n",
       " Max.   :11595.11   Max.   :150.0   Max.   :7292.52   Max.   :79.96  "
      ]
     },
     "metadata": {},
     "output_type": "display_data"
    }
   ],
   "source": [
    "summary(workdata)            #Check the statistical informations"
   ]
  },
  {
   "cell_type": "code",
   "execution_count": 211,
   "id": "50d9aee0",
   "metadata": {
    "scrolled": true
   },
   "outputs": [
    {
     "data": {
      "text/html": [
       "<table class=\"dataframe\">\n",
       "<caption>A data.frame: 6 × 12</caption>\n",
       "<thead>\n",
       "\t<tr><th></th><th scope=col>OrderID</th><th scope=col>OrderDate</th><th scope=col>CustomerID</th><th scope=col>EmployeeID</th><th scope=col>ShipperID</th><th scope=col>ProductID</th><th scope=col>Sales</th><th scope=col>Costs</th><th scope=col>Profit</th><th scope=col>Quantity</th><th scope=col>Discount</th><th scope=col>Freight</th></tr>\n",
       "\t<tr><th></th><th scope=col>&lt;int&gt;</th><th scope=col>&lt;chr&gt;</th><th scope=col>&lt;chr&gt;</th><th scope=col>&lt;chr&gt;</th><th scope=col>&lt;int&gt;</th><th scope=col>&lt;int&gt;</th><th scope=col>&lt;dbl&gt;</th><th scope=col>&lt;dbl&gt;</th><th scope=col>&lt;dbl&gt;</th><th scope=col>&lt;int&gt;</th><th scope=col>&lt;dbl&gt;</th><th scope=col>&lt;dbl&gt;</th></tr>\n",
       "</thead>\n",
       "<tbody>\n",
       "\t<tr><th scope=row>1</th><td>10251</td><td>3/3/19  </td><td>CST1</td><td>EMP7</td><td>2</td><td>22</td><td> 21.36</td><td> 16.84</td><td>  4.52</td><td> 6</td><td> 1.02</td><td>43.41</td></tr>\n",
       "\t<tr><th scope=row>2</th><td>10251</td><td>3/3/19  </td><td>CST1</td><td>EMP7</td><td>2</td><td>57</td><td>332.64</td><td>288.14</td><td> 44.50</td><td>15</td><td>15.84</td><td>43.41</td></tr>\n",
       "\t<tr><th scope=row>3</th><td>10251</td><td>3/3/19  </td><td>CST1</td><td>EMP7</td><td>2</td><td>65</td><td>185.20</td><td>156.44</td><td> 28.76</td><td>20</td><td> 0.00</td><td>43.41</td></tr>\n",
       "\t<tr><th scope=row>4</th><td>10277</td><td>11/5/19 </td><td>CST1</td><td>EMP7</td><td>2</td><td>28</td><td>889.60</td><td>768.61</td><td>120.99</td><td>20</td><td> 0.00</td><td>77.65</td></tr>\n",
       "\t<tr><th scope=row>5</th><td>10277</td><td>11/5/19 </td><td>CST1</td><td>EMP7</td><td>2</td><td>62</td><td>360.96</td><td>311.87</td><td> 49.09</td><td>12</td><td> 0.00</td><td>77.65</td></tr>\n",
       "\t<tr><th scope=row>6</th><td>10289</td><td>11/21/18</td><td>CST1</td><td>EMP8</td><td>2</td><td> 3</td><td>616.20</td><td>532.40</td><td> 83.80</td><td>30</td><td> 0.00</td><td>25.25</td></tr>\n",
       "</tbody>\n",
       "</table>\n"
      ],
      "text/latex": [
       "A data.frame: 6 × 12\n",
       "\\begin{tabular}{r|llllllllllll}\n",
       "  & OrderID & OrderDate & CustomerID & EmployeeID & ShipperID & ProductID & Sales & Costs & Profit & Quantity & Discount & Freight\\\\\n",
       "  & <int> & <chr> & <chr> & <chr> & <int> & <int> & <dbl> & <dbl> & <dbl> & <int> & <dbl> & <dbl>\\\\\n",
       "\\hline\n",
       "\t1 & 10251 & 3/3/19   & CST1 & EMP7 & 2 & 22 &  21.36 &  16.84 &   4.52 &  6 &  1.02 & 43.41\\\\\n",
       "\t2 & 10251 & 3/3/19   & CST1 & EMP7 & 2 & 57 & 332.64 & 288.14 &  44.50 & 15 & 15.84 & 43.41\\\\\n",
       "\t3 & 10251 & 3/3/19   & CST1 & EMP7 & 2 & 65 & 185.20 & 156.44 &  28.76 & 20 &  0.00 & 43.41\\\\\n",
       "\t4 & 10277 & 11/5/19  & CST1 & EMP7 & 2 & 28 & 889.60 & 768.61 & 120.99 & 20 &  0.00 & 77.65\\\\\n",
       "\t5 & 10277 & 11/5/19  & CST1 & EMP7 & 2 & 62 & 360.96 & 311.87 &  49.09 & 12 &  0.00 & 77.65\\\\\n",
       "\t6 & 10289 & 11/21/18 & CST1 & EMP8 & 2 &  3 & 616.20 & 532.40 &  83.80 & 30 &  0.00 & 25.25\\\\\n",
       "\\end{tabular}\n"
      ],
      "text/markdown": [
       "\n",
       "A data.frame: 6 × 12\n",
       "\n",
       "| <!--/--> | OrderID &lt;int&gt; | OrderDate &lt;chr&gt; | CustomerID &lt;chr&gt; | EmployeeID &lt;chr&gt; | ShipperID &lt;int&gt; | ProductID &lt;int&gt; | Sales &lt;dbl&gt; | Costs &lt;dbl&gt; | Profit &lt;dbl&gt; | Quantity &lt;int&gt; | Discount &lt;dbl&gt; | Freight &lt;dbl&gt; |\n",
       "|---|---|---|---|---|---|---|---|---|---|---|---|---|\n",
       "| 1 | 10251 | 3/3/19   | CST1 | EMP7 | 2 | 22 |  21.36 |  16.84 |   4.52 |  6 |  1.02 | 43.41 |\n",
       "| 2 | 10251 | 3/3/19   | CST1 | EMP7 | 2 | 57 | 332.64 | 288.14 |  44.50 | 15 | 15.84 | 43.41 |\n",
       "| 3 | 10251 | 3/3/19   | CST1 | EMP7 | 2 | 65 | 185.20 | 156.44 |  28.76 | 20 |  0.00 | 43.41 |\n",
       "| 4 | 10277 | 11/5/19  | CST1 | EMP7 | 2 | 28 | 889.60 | 768.61 | 120.99 | 20 |  0.00 | 77.65 |\n",
       "| 5 | 10277 | 11/5/19  | CST1 | EMP7 | 2 | 62 | 360.96 | 311.87 |  49.09 | 12 |  0.00 | 77.65 |\n",
       "| 6 | 10289 | 11/21/18 | CST1 | EMP8 | 2 |  3 | 616.20 | 532.40 |  83.80 | 30 |  0.00 | 25.25 |\n",
       "\n"
      ],
      "text/plain": [
       "  OrderID OrderDate CustomerID EmployeeID ShipperID ProductID Sales  Costs \n",
       "1 10251   3/3/19    CST1       EMP7       2         22         21.36  16.84\n",
       "2 10251   3/3/19    CST1       EMP7       2         57        332.64 288.14\n",
       "3 10251   3/3/19    CST1       EMP7       2         65        185.20 156.44\n",
       "4 10277   11/5/19   CST1       EMP7       2         28        889.60 768.61\n",
       "5 10277   11/5/19   CST1       EMP7       2         62        360.96 311.87\n",
       "6 10289   11/21/18  CST1       EMP8       2          3        616.20 532.40\n",
       "  Profit Quantity Discount Freight\n",
       "1   4.52  6        1.02    43.41  \n",
       "2  44.50 15       15.84    43.41  \n",
       "3  28.76 20        0.00    43.41  \n",
       "4 120.99 20        0.00    77.65  \n",
       "5  49.09 12        0.00    77.65  \n",
       "6  83.80 30        0.00    25.25  "
      ]
     },
     "metadata": {},
     "output_type": "display_data"
    }
   ],
   "source": [
    "head(workdata)               #View the data set "
   ]
  },
  {
   "cell_type": "code",
   "execution_count": 212,
   "id": "42093aea",
   "metadata": {
    "scrolled": true
   },
   "outputs": [
    {
     "data": {
      "text/plain": [
       "\n",
       "FALSE \n",
       "27468 "
      ]
     },
     "metadata": {},
     "output_type": "display_data"
    }
   ],
   "source": [
    "table(is.na(workdata))            #Check for Nulls or NAs"
   ]
  },
  {
   "cell_type": "code",
   "execution_count": 213,
   "id": "f96c1cb5",
   "metadata": {
    "scrolled": true
   },
   "outputs": [],
   "source": [
    "cleandata <- workdata[-c(1,3:6,11)]               #Delete unnecessary columns"
   ]
  },
  {
   "cell_type": "code",
   "execution_count": 214,
   "id": "b4275756",
   "metadata": {
    "scrolled": true
   },
   "outputs": [
    {
     "data": {
      "text/html": [
       "<table class=\"dataframe\">\n",
       "<caption>A data.frame: 2289 × 6</caption>\n",
       "<thead>\n",
       "\t<tr><th scope=col>OrderDate</th><th scope=col>Sales</th><th scope=col>Costs</th><th scope=col>Profit</th><th scope=col>Quantity</th><th scope=col>Freight</th></tr>\n",
       "\t<tr><th scope=col>&lt;chr&gt;</th><th scope=col>&lt;dbl&gt;</th><th scope=col>&lt;dbl&gt;</th><th scope=col>&lt;dbl&gt;</th><th scope=col>&lt;int&gt;</th><th scope=col>&lt;dbl&gt;</th></tr>\n",
       "</thead>\n",
       "<tbody>\n",
       "\t<tr><td>3/3/19  </td><td>  21.36</td><td>  16.84</td><td>  4.52</td><td> 6</td><td>43.41</td></tr>\n",
       "\t<tr><td>3/3/19  </td><td> 332.64</td><td> 288.14</td><td> 44.50</td><td>15</td><td>43.41</td></tr>\n",
       "\t<tr><td>3/3/19  </td><td> 185.20</td><td> 156.44</td><td> 28.76</td><td>20</td><td>43.41</td></tr>\n",
       "\t<tr><td>11/5/19 </td><td> 889.60</td><td> 768.61</td><td>120.99</td><td>20</td><td>77.65</td></tr>\n",
       "\t<tr><td>11/5/19 </td><td> 360.96</td><td> 311.87</td><td> 49.09</td><td>12</td><td>77.65</td></tr>\n",
       "\t<tr><td>11/21/18</td><td> 616.20</td><td> 532.40</td><td> 83.80</td><td>30</td><td>25.25</td></tr>\n",
       "\t<tr><td>11/21/18</td><td> 320.40</td><td> 276.83</td><td> 43.57</td><td> 9</td><td>25.25</td></tr>\n",
       "\t<tr><td>11/23/19</td><td> 131.40</td><td> 113.53</td><td> 17.87</td><td>20</td><td>58.77</td></tr>\n",
       "\t<tr><td>11/23/19</td><td>1890.45</td><td>1633.35</td><td>257.10</td><td>15</td><td>58.77</td></tr>\n",
       "\t<tr><td>11/23/19</td><td> 294.90</td><td> 254.79</td><td> 40.11</td><td>15</td><td>58.77</td></tr>\n",
       "\t<tr><td>11/23/19</td><td> 134.90</td><td> 116.55</td><td> 18.35</td><td>10</td><td>58.77</td></tr>\n",
       "\t<tr><td>1/21/21 </td><td> 524.80</td><td> 453.43</td><td> 71.37</td><td>20</td><td>52.33</td></tr>\n",
       "\t<tr><td>1/21/21 </td><td> 381.00</td><td> 329.18</td><td> 51.82</td><td>15</td><td>52.33</td></tr>\n",
       "\t<tr><td>2/3/19  </td><td> 820.32</td><td> 708.76</td><td>111.56</td><td>24</td><td>79.64</td></tr>\n",
       "\t<tr><td>2/28/20 </td><td> 203.07</td><td> 168.14</td><td> 34.93</td><td>21</td><td>40.58</td></tr>\n",
       "\t<tr><td>2/28/20 </td><td> 743.00</td><td> 615.20</td><td>127.80</td><td>50</td><td>40.58</td></tr>\n",
       "\t<tr><td>10/13/18</td><td>4764.24</td><td>3944.79</td><td>819.45</td><td>36</td><td>50.87</td></tr>\n",
       "\t<tr><td>10/13/18</td><td> 312.44</td><td> 235.19</td><td> 77.26</td><td>36</td><td>50.87</td></tr>\n",
       "\t<tr><td>11/1/21 </td><td> 179.68</td><td> 129.37</td><td> 50.31</td><td> 8</td><td>72.33</td></tr>\n",
       "\t<tr><td>11/1/21 </td><td> 262.40</td><td> 217.27</td><td> 45.13</td><td>10</td><td>72.33</td></tr>\n",
       "\t<tr><td>11/1/21 </td><td>1438.31</td><td>1035.58</td><td>402.73</td><td>30</td><td>72.33</td></tr>\n",
       "\t<tr><td>2/26/19 </td><td> 375.60</td><td> 304.24</td><td> 71.36</td><td>15</td><td>79.86</td></tr>\n",
       "\t<tr><td>10/31/18</td><td>  49.45</td><td>  40.05</td><td>  9.40</td><td> 5</td><td>60.94</td></tr>\n",
       "\t<tr><td>10/31/18</td><td>  96.40</td><td>  78.08</td><td> 18.32</td><td>10</td><td>60.94</td></tr>\n",
       "\t<tr><td>10/31/18</td><td> 546.80</td><td> 442.91</td><td>103.89</td><td>20</td><td>60.94</td></tr>\n",
       "\t<tr><td>10/31/18</td><td> 487.05</td><td> 394.51</td><td> 92.54</td><td>15</td><td>60.94</td></tr>\n",
       "\t<tr><td>11/6/18 </td><td> 460.80</td><td> 373.25</td><td> 87.55</td><td>15</td><td>64.75</td></tr>\n",
       "\t<tr><td>11/6/18 </td><td>  47.49</td><td>  33.92</td><td> 13.58</td><td>35</td><td>64.75</td></tr>\n",
       "\t<tr><td>2/20/19 </td><td> 873.00</td><td> 565.70</td><td>307.30</td><td>15</td><td>67.91</td></tr>\n",
       "\t<tr><td>2/20/19 </td><td>1478.40</td><td> 958.00</td><td>520.40</td><td>21</td><td>67.91</td></tr>\n",
       "\t<tr><td>⋮</td><td>⋮</td><td>⋮</td><td>⋮</td><td>⋮</td><td>⋮</td></tr>\n",
       "\t<tr><td>2/23/19 </td><td> 198.50</td><td> 160.79</td><td> 37.72</td><td>10</td><td>31.10</td></tr>\n",
       "\t<tr><td>10/31/19</td><td>  54.98</td><td>  48.49</td><td>  6.49</td><td> 2</td><td>59.53</td></tr>\n",
       "\t<tr><td>10/31/19</td><td> 235.00</td><td> 207.27</td><td> 27.73</td><td>10</td><td>59.53</td></tr>\n",
       "\t<tr><td>10/31/19</td><td>  60.48</td><td>  53.34</td><td>  7.14</td><td> 7</td><td>59.53</td></tr>\n",
       "\t<tr><td>10/31/19</td><td> 121.00</td><td> 106.72</td><td> 14.28</td><td>10</td><td>59.53</td></tr>\n",
       "\t<tr><td>2/23/21 </td><td> 707.52</td><td> 611.30</td><td> 96.22</td><td>24</td><td>35.04</td></tr>\n",
       "\t<tr><td>3/11/20 </td><td> 196.82</td><td> 141.71</td><td> 55.11</td><td>15</td><td>37.11</td></tr>\n",
       "\t<tr><td>3/11/20 </td><td> 551.14</td><td> 396.82</td><td>154.32</td><td>15</td><td>37.11</td></tr>\n",
       "\t<tr><td>2/9/18  </td><td>1556.50</td><td>1146.15</td><td>410.35</td><td>50</td><td>47.43</td></tr>\n",
       "\t<tr><td>2/9/18  </td><td> 213.40</td><td> 157.14</td><td> 56.26</td><td>10</td><td>47.43</td></tr>\n",
       "\t<tr><td>2/9/18  </td><td> 112.09</td><td>  82.54</td><td> 29.55</td><td> 5</td><td>47.43</td></tr>\n",
       "\t<tr><td>2/9/18  </td><td> 126.39</td><td>  93.07</td><td> 33.32</td><td>15</td><td>47.43</td></tr>\n",
       "\t<tr><td>9/14/18 </td><td> 438.66</td><td> 355.31</td><td> 83.35</td><td>18</td><td>52.32</td></tr>\n",
       "\t<tr><td>9/14/18 </td><td> 295.20</td><td> 239.11</td><td> 56.09</td><td>40</td><td>52.32</td></tr>\n",
       "\t<tr><td>9/14/18 </td><td>1640.25</td><td>1328.60</td><td>311.65</td><td>25</td><td>52.32</td></tr>\n",
       "\t<tr><td>12/17/18</td><td>1158.51</td><td> 815.99</td><td>342.52</td><td>30</td><td>62.67</td></tr>\n",
       "\t<tr><td>12/17/18</td><td> 243.89</td><td> 171.78</td><td> 72.11</td><td> 8</td><td>62.67</td></tr>\n",
       "\t<tr><td>12/20/18</td><td> 764.10</td><td> 618.92</td><td>145.18</td><td>30</td><td>54.83</td></tr>\n",
       "\t<tr><td>12/20/18</td><td>  74.16</td><td>  60.07</td><td> 14.09</td><td> 4</td><td>54.83</td></tr>\n",
       "\t<tr><td>12/20/18</td><td> 247.50</td><td> 200.47</td><td> 47.02</td><td>30</td><td>54.83</td></tr>\n",
       "\t<tr><td>4/23/19 </td><td> 390.80</td><td> 363.15</td><td> 27.65</td><td>20</td><td>39.03</td></tr>\n",
       "\t<tr><td>4/23/19 </td><td> 268.00</td><td> 236.38</td><td> 31.62</td><td>20</td><td>39.03</td></tr>\n",
       "\t<tr><td>9/30/19 </td><td> 343.44</td><td> 284.37</td><td> 59.07</td><td>12</td><td>43.48</td></tr>\n",
       "\t<tr><td>9/30/19 </td><td> 140.40</td><td> 116.25</td><td> 24.15</td><td>10</td><td>43.48</td></tr>\n",
       "\t<tr><td>9/30/19 </td><td>  63.55</td><td>  52.62</td><td> 10.93</td><td> 5</td><td>43.48</td></tr>\n",
       "\t<tr><td>2/9/19  </td><td> 324.54</td><td> 219.06</td><td>105.48</td><td>15</td><td>70.43</td></tr>\n",
       "\t<tr><td>9/29/19 </td><td>  25.28</td><td>  22.30</td><td>  2.98</td><td> 4</td><td>32.43</td></tr>\n",
       "\t<tr><td>9/29/19 </td><td> 972.15</td><td> 857.44</td><td>114.71</td><td>15</td><td>32.43</td></tr>\n",
       "\t<tr><td>6/12/19 </td><td>4404.75</td><td>3699.99</td><td>704.76</td><td>50</td><td>29.59</td></tr>\n",
       "\t<tr><td>6/12/19 </td><td> 414.23</td><td> 347.95</td><td> 66.28</td><td>50</td><td>29.59</td></tr>\n",
       "</tbody>\n",
       "</table>\n"
      ],
      "text/latex": [
       "A data.frame: 2289 × 6\n",
       "\\begin{tabular}{llllll}\n",
       " OrderDate & Sales & Costs & Profit & Quantity & Freight\\\\\n",
       " <chr> & <dbl> & <dbl> & <dbl> & <int> & <dbl>\\\\\n",
       "\\hline\n",
       "\t 3/3/19   &   21.36 &   16.84 &   4.52 &  6 & 43.41\\\\\n",
       "\t 3/3/19   &  332.64 &  288.14 &  44.50 & 15 & 43.41\\\\\n",
       "\t 3/3/19   &  185.20 &  156.44 &  28.76 & 20 & 43.41\\\\\n",
       "\t 11/5/19  &  889.60 &  768.61 & 120.99 & 20 & 77.65\\\\\n",
       "\t 11/5/19  &  360.96 &  311.87 &  49.09 & 12 & 77.65\\\\\n",
       "\t 11/21/18 &  616.20 &  532.40 &  83.80 & 30 & 25.25\\\\\n",
       "\t 11/21/18 &  320.40 &  276.83 &  43.57 &  9 & 25.25\\\\\n",
       "\t 11/23/19 &  131.40 &  113.53 &  17.87 & 20 & 58.77\\\\\n",
       "\t 11/23/19 & 1890.45 & 1633.35 & 257.10 & 15 & 58.77\\\\\n",
       "\t 11/23/19 &  294.90 &  254.79 &  40.11 & 15 & 58.77\\\\\n",
       "\t 11/23/19 &  134.90 &  116.55 &  18.35 & 10 & 58.77\\\\\n",
       "\t 1/21/21  &  524.80 &  453.43 &  71.37 & 20 & 52.33\\\\\n",
       "\t 1/21/21  &  381.00 &  329.18 &  51.82 & 15 & 52.33\\\\\n",
       "\t 2/3/19   &  820.32 &  708.76 & 111.56 & 24 & 79.64\\\\\n",
       "\t 2/28/20  &  203.07 &  168.14 &  34.93 & 21 & 40.58\\\\\n",
       "\t 2/28/20  &  743.00 &  615.20 & 127.80 & 50 & 40.58\\\\\n",
       "\t 10/13/18 & 4764.24 & 3944.79 & 819.45 & 36 & 50.87\\\\\n",
       "\t 10/13/18 &  312.44 &  235.19 &  77.26 & 36 & 50.87\\\\\n",
       "\t 11/1/21  &  179.68 &  129.37 &  50.31 &  8 & 72.33\\\\\n",
       "\t 11/1/21  &  262.40 &  217.27 &  45.13 & 10 & 72.33\\\\\n",
       "\t 11/1/21  & 1438.31 & 1035.58 & 402.73 & 30 & 72.33\\\\\n",
       "\t 2/26/19  &  375.60 &  304.24 &  71.36 & 15 & 79.86\\\\\n",
       "\t 10/31/18 &   49.45 &   40.05 &   9.40 &  5 & 60.94\\\\\n",
       "\t 10/31/18 &   96.40 &   78.08 &  18.32 & 10 & 60.94\\\\\n",
       "\t 10/31/18 &  546.80 &  442.91 & 103.89 & 20 & 60.94\\\\\n",
       "\t 10/31/18 &  487.05 &  394.51 &  92.54 & 15 & 60.94\\\\\n",
       "\t 11/6/18  &  460.80 &  373.25 &  87.55 & 15 & 64.75\\\\\n",
       "\t 11/6/18  &   47.49 &   33.92 &  13.58 & 35 & 64.75\\\\\n",
       "\t 2/20/19  &  873.00 &  565.70 & 307.30 & 15 & 67.91\\\\\n",
       "\t 2/20/19  & 1478.40 &  958.00 & 520.40 & 21 & 67.91\\\\\n",
       "\t ⋮ & ⋮ & ⋮ & ⋮ & ⋮ & ⋮\\\\\n",
       "\t 2/23/19  &  198.50 &  160.79 &  37.72 & 10 & 31.10\\\\\n",
       "\t 10/31/19 &   54.98 &   48.49 &   6.49 &  2 & 59.53\\\\\n",
       "\t 10/31/19 &  235.00 &  207.27 &  27.73 & 10 & 59.53\\\\\n",
       "\t 10/31/19 &   60.48 &   53.34 &   7.14 &  7 & 59.53\\\\\n",
       "\t 10/31/19 &  121.00 &  106.72 &  14.28 & 10 & 59.53\\\\\n",
       "\t 2/23/21  &  707.52 &  611.30 &  96.22 & 24 & 35.04\\\\\n",
       "\t 3/11/20  &  196.82 &  141.71 &  55.11 & 15 & 37.11\\\\\n",
       "\t 3/11/20  &  551.14 &  396.82 & 154.32 & 15 & 37.11\\\\\n",
       "\t 2/9/18   & 1556.50 & 1146.15 & 410.35 & 50 & 47.43\\\\\n",
       "\t 2/9/18   &  213.40 &  157.14 &  56.26 & 10 & 47.43\\\\\n",
       "\t 2/9/18   &  112.09 &   82.54 &  29.55 &  5 & 47.43\\\\\n",
       "\t 2/9/18   &  126.39 &   93.07 &  33.32 & 15 & 47.43\\\\\n",
       "\t 9/14/18  &  438.66 &  355.31 &  83.35 & 18 & 52.32\\\\\n",
       "\t 9/14/18  &  295.20 &  239.11 &  56.09 & 40 & 52.32\\\\\n",
       "\t 9/14/18  & 1640.25 & 1328.60 & 311.65 & 25 & 52.32\\\\\n",
       "\t 12/17/18 & 1158.51 &  815.99 & 342.52 & 30 & 62.67\\\\\n",
       "\t 12/17/18 &  243.89 &  171.78 &  72.11 &  8 & 62.67\\\\\n",
       "\t 12/20/18 &  764.10 &  618.92 & 145.18 & 30 & 54.83\\\\\n",
       "\t 12/20/18 &   74.16 &   60.07 &  14.09 &  4 & 54.83\\\\\n",
       "\t 12/20/18 &  247.50 &  200.47 &  47.02 & 30 & 54.83\\\\\n",
       "\t 4/23/19  &  390.80 &  363.15 &  27.65 & 20 & 39.03\\\\\n",
       "\t 4/23/19  &  268.00 &  236.38 &  31.62 & 20 & 39.03\\\\\n",
       "\t 9/30/19  &  343.44 &  284.37 &  59.07 & 12 & 43.48\\\\\n",
       "\t 9/30/19  &  140.40 &  116.25 &  24.15 & 10 & 43.48\\\\\n",
       "\t 9/30/19  &   63.55 &   52.62 &  10.93 &  5 & 43.48\\\\\n",
       "\t 2/9/19   &  324.54 &  219.06 & 105.48 & 15 & 70.43\\\\\n",
       "\t 9/29/19  &   25.28 &   22.30 &   2.98 &  4 & 32.43\\\\\n",
       "\t 9/29/19  &  972.15 &  857.44 & 114.71 & 15 & 32.43\\\\\n",
       "\t 6/12/19  & 4404.75 & 3699.99 & 704.76 & 50 & 29.59\\\\\n",
       "\t 6/12/19  &  414.23 &  347.95 &  66.28 & 50 & 29.59\\\\\n",
       "\\end{tabular}\n"
      ],
      "text/markdown": [
       "\n",
       "A data.frame: 2289 × 6\n",
       "\n",
       "| OrderDate &lt;chr&gt; | Sales &lt;dbl&gt; | Costs &lt;dbl&gt; | Profit &lt;dbl&gt; | Quantity &lt;int&gt; | Freight &lt;dbl&gt; |\n",
       "|---|---|---|---|---|---|\n",
       "| 3/3/19   |   21.36 |   16.84 |   4.52 |  6 | 43.41 |\n",
       "| 3/3/19   |  332.64 |  288.14 |  44.50 | 15 | 43.41 |\n",
       "| 3/3/19   |  185.20 |  156.44 |  28.76 | 20 | 43.41 |\n",
       "| 11/5/19  |  889.60 |  768.61 | 120.99 | 20 | 77.65 |\n",
       "| 11/5/19  |  360.96 |  311.87 |  49.09 | 12 | 77.65 |\n",
       "| 11/21/18 |  616.20 |  532.40 |  83.80 | 30 | 25.25 |\n",
       "| 11/21/18 |  320.40 |  276.83 |  43.57 |  9 | 25.25 |\n",
       "| 11/23/19 |  131.40 |  113.53 |  17.87 | 20 | 58.77 |\n",
       "| 11/23/19 | 1890.45 | 1633.35 | 257.10 | 15 | 58.77 |\n",
       "| 11/23/19 |  294.90 |  254.79 |  40.11 | 15 | 58.77 |\n",
       "| 11/23/19 |  134.90 |  116.55 |  18.35 | 10 | 58.77 |\n",
       "| 1/21/21  |  524.80 |  453.43 |  71.37 | 20 | 52.33 |\n",
       "| 1/21/21  |  381.00 |  329.18 |  51.82 | 15 | 52.33 |\n",
       "| 2/3/19   |  820.32 |  708.76 | 111.56 | 24 | 79.64 |\n",
       "| 2/28/20  |  203.07 |  168.14 |  34.93 | 21 | 40.58 |\n",
       "| 2/28/20  |  743.00 |  615.20 | 127.80 | 50 | 40.58 |\n",
       "| 10/13/18 | 4764.24 | 3944.79 | 819.45 | 36 | 50.87 |\n",
       "| 10/13/18 |  312.44 |  235.19 |  77.26 | 36 | 50.87 |\n",
       "| 11/1/21  |  179.68 |  129.37 |  50.31 |  8 | 72.33 |\n",
       "| 11/1/21  |  262.40 |  217.27 |  45.13 | 10 | 72.33 |\n",
       "| 11/1/21  | 1438.31 | 1035.58 | 402.73 | 30 | 72.33 |\n",
       "| 2/26/19  |  375.60 |  304.24 |  71.36 | 15 | 79.86 |\n",
       "| 10/31/18 |   49.45 |   40.05 |   9.40 |  5 | 60.94 |\n",
       "| 10/31/18 |   96.40 |   78.08 |  18.32 | 10 | 60.94 |\n",
       "| 10/31/18 |  546.80 |  442.91 | 103.89 | 20 | 60.94 |\n",
       "| 10/31/18 |  487.05 |  394.51 |  92.54 | 15 | 60.94 |\n",
       "| 11/6/18  |  460.80 |  373.25 |  87.55 | 15 | 64.75 |\n",
       "| 11/6/18  |   47.49 |   33.92 |  13.58 | 35 | 64.75 |\n",
       "| 2/20/19  |  873.00 |  565.70 | 307.30 | 15 | 67.91 |\n",
       "| 2/20/19  | 1478.40 |  958.00 | 520.40 | 21 | 67.91 |\n",
       "| ⋮ | ⋮ | ⋮ | ⋮ | ⋮ | ⋮ |\n",
       "| 2/23/19  |  198.50 |  160.79 |  37.72 | 10 | 31.10 |\n",
       "| 10/31/19 |   54.98 |   48.49 |   6.49 |  2 | 59.53 |\n",
       "| 10/31/19 |  235.00 |  207.27 |  27.73 | 10 | 59.53 |\n",
       "| 10/31/19 |   60.48 |   53.34 |   7.14 |  7 | 59.53 |\n",
       "| 10/31/19 |  121.00 |  106.72 |  14.28 | 10 | 59.53 |\n",
       "| 2/23/21  |  707.52 |  611.30 |  96.22 | 24 | 35.04 |\n",
       "| 3/11/20  |  196.82 |  141.71 |  55.11 | 15 | 37.11 |\n",
       "| 3/11/20  |  551.14 |  396.82 | 154.32 | 15 | 37.11 |\n",
       "| 2/9/18   | 1556.50 | 1146.15 | 410.35 | 50 | 47.43 |\n",
       "| 2/9/18   |  213.40 |  157.14 |  56.26 | 10 | 47.43 |\n",
       "| 2/9/18   |  112.09 |   82.54 |  29.55 |  5 | 47.43 |\n",
       "| 2/9/18   |  126.39 |   93.07 |  33.32 | 15 | 47.43 |\n",
       "| 9/14/18  |  438.66 |  355.31 |  83.35 | 18 | 52.32 |\n",
       "| 9/14/18  |  295.20 |  239.11 |  56.09 | 40 | 52.32 |\n",
       "| 9/14/18  | 1640.25 | 1328.60 | 311.65 | 25 | 52.32 |\n",
       "| 12/17/18 | 1158.51 |  815.99 | 342.52 | 30 | 62.67 |\n",
       "| 12/17/18 |  243.89 |  171.78 |  72.11 |  8 | 62.67 |\n",
       "| 12/20/18 |  764.10 |  618.92 | 145.18 | 30 | 54.83 |\n",
       "| 12/20/18 |   74.16 |   60.07 |  14.09 |  4 | 54.83 |\n",
       "| 12/20/18 |  247.50 |  200.47 |  47.02 | 30 | 54.83 |\n",
       "| 4/23/19  |  390.80 |  363.15 |  27.65 | 20 | 39.03 |\n",
       "| 4/23/19  |  268.00 |  236.38 |  31.62 | 20 | 39.03 |\n",
       "| 9/30/19  |  343.44 |  284.37 |  59.07 | 12 | 43.48 |\n",
       "| 9/30/19  |  140.40 |  116.25 |  24.15 | 10 | 43.48 |\n",
       "| 9/30/19  |   63.55 |   52.62 |  10.93 |  5 | 43.48 |\n",
       "| 2/9/19   |  324.54 |  219.06 | 105.48 | 15 | 70.43 |\n",
       "| 9/29/19  |   25.28 |   22.30 |   2.98 |  4 | 32.43 |\n",
       "| 9/29/19  |  972.15 |  857.44 | 114.71 | 15 | 32.43 |\n",
       "| 6/12/19  | 4404.75 | 3699.99 | 704.76 | 50 | 29.59 |\n",
       "| 6/12/19  |  414.23 |  347.95 |  66.28 | 50 | 29.59 |\n",
       "\n"
      ],
      "text/plain": [
       "     OrderDate Sales   Costs   Profit Quantity Freight\n",
       "1    3/3/19      21.36   16.84   4.52  6       43.41  \n",
       "2    3/3/19     332.64  288.14  44.50 15       43.41  \n",
       "3    3/3/19     185.20  156.44  28.76 20       43.41  \n",
       "4    11/5/19    889.60  768.61 120.99 20       77.65  \n",
       "5    11/5/19    360.96  311.87  49.09 12       77.65  \n",
       "6    11/21/18   616.20  532.40  83.80 30       25.25  \n",
       "7    11/21/18   320.40  276.83  43.57  9       25.25  \n",
       "8    11/23/19   131.40  113.53  17.87 20       58.77  \n",
       "9    11/23/19  1890.45 1633.35 257.10 15       58.77  \n",
       "10   11/23/19   294.90  254.79  40.11 15       58.77  \n",
       "11   11/23/19   134.90  116.55  18.35 10       58.77  \n",
       "12   1/21/21    524.80  453.43  71.37 20       52.33  \n",
       "13   1/21/21    381.00  329.18  51.82 15       52.33  \n",
       "14   2/3/19     820.32  708.76 111.56 24       79.64  \n",
       "15   2/28/20    203.07  168.14  34.93 21       40.58  \n",
       "16   2/28/20    743.00  615.20 127.80 50       40.58  \n",
       "17   10/13/18  4764.24 3944.79 819.45 36       50.87  \n",
       "18   10/13/18   312.44  235.19  77.26 36       50.87  \n",
       "19   11/1/21    179.68  129.37  50.31  8       72.33  \n",
       "20   11/1/21    262.40  217.27  45.13 10       72.33  \n",
       "21   11/1/21   1438.31 1035.58 402.73 30       72.33  \n",
       "22   2/26/19    375.60  304.24  71.36 15       79.86  \n",
       "23   10/31/18    49.45   40.05   9.40  5       60.94  \n",
       "24   10/31/18    96.40   78.08  18.32 10       60.94  \n",
       "25   10/31/18   546.80  442.91 103.89 20       60.94  \n",
       "26   10/31/18   487.05  394.51  92.54 15       60.94  \n",
       "27   11/6/18    460.80  373.25  87.55 15       64.75  \n",
       "28   11/6/18     47.49   33.92  13.58 35       64.75  \n",
       "29   2/20/19    873.00  565.70 307.30 15       67.91  \n",
       "30   2/20/19   1478.40  958.00 520.40 21       67.91  \n",
       "⋮    ⋮         ⋮       ⋮       ⋮      ⋮        ⋮      \n",
       "2260 2/23/19    198.50  160.79  37.72 10       31.10  \n",
       "2261 10/31/19    54.98   48.49   6.49  2       59.53  \n",
       "2262 10/31/19   235.00  207.27  27.73 10       59.53  \n",
       "2263 10/31/19    60.48   53.34   7.14  7       59.53  \n",
       "2264 10/31/19   121.00  106.72  14.28 10       59.53  \n",
       "2265 2/23/21    707.52  611.30  96.22 24       35.04  \n",
       "2266 3/11/20    196.82  141.71  55.11 15       37.11  \n",
       "2267 3/11/20    551.14  396.82 154.32 15       37.11  \n",
       "2268 2/9/18    1556.50 1146.15 410.35 50       47.43  \n",
       "2269 2/9/18     213.40  157.14  56.26 10       47.43  \n",
       "2270 2/9/18     112.09   82.54  29.55  5       47.43  \n",
       "2271 2/9/18     126.39   93.07  33.32 15       47.43  \n",
       "2272 9/14/18    438.66  355.31  83.35 18       52.32  \n",
       "2273 9/14/18    295.20  239.11  56.09 40       52.32  \n",
       "2274 9/14/18   1640.25 1328.60 311.65 25       52.32  \n",
       "2275 12/17/18  1158.51  815.99 342.52 30       62.67  \n",
       "2276 12/17/18   243.89  171.78  72.11  8       62.67  \n",
       "2277 12/20/18   764.10  618.92 145.18 30       54.83  \n",
       "2278 12/20/18    74.16   60.07  14.09  4       54.83  \n",
       "2279 12/20/18   247.50  200.47  47.02 30       54.83  \n",
       "2280 4/23/19    390.80  363.15  27.65 20       39.03  \n",
       "2281 4/23/19    268.00  236.38  31.62 20       39.03  \n",
       "2282 9/30/19    343.44  284.37  59.07 12       43.48  \n",
       "2283 9/30/19    140.40  116.25  24.15 10       43.48  \n",
       "2284 9/30/19     63.55   52.62  10.93  5       43.48  \n",
       "2285 2/9/19     324.54  219.06 105.48 15       70.43  \n",
       "2286 9/29/19     25.28   22.30   2.98  4       32.43  \n",
       "2287 9/29/19    972.15  857.44 114.71 15       32.43  \n",
       "2288 6/12/19   4404.75 3699.99 704.76 50       29.59  \n",
       "2289 6/12/19    414.23  347.95  66.28 50       29.59  "
      ]
     },
     "metadata": {},
     "output_type": "display_data"
    }
   ],
   "source": [
    "cleandata              #Check data set again after cleaning"
   ]
  },
  {
   "cell_type": "code",
   "execution_count": 215,
   "id": "91749123",
   "metadata": {
    "scrolled": true
   },
   "outputs": [
    {
     "data": {
      "text/plain": [
       "  OrderDate             Sales              Costs              Profit        \n",
       " Length:2289        Min.   :    2.12   Min.   :    1.83   Min.   :    0.27  \n",
       " Class :character   1st Qu.:  151.58   1st Qu.:  122.21   1st Qu.:   24.99  \n",
       " Mode  :character   Median :  351.72   Median :  282.10   Median :   63.04  \n",
       "                    Mean   :  819.13   Mean   :  652.71   Mean   :  166.42  \n",
       "                    3rd Qu.:  788.10   3rd Qu.:  634.13   3rd Qu.:  145.56  \n",
       "                    Max.   :43755.12   Max.   :32160.01   Max.   :11595.11  \n",
       "    Quantity        Freight     \n",
       " Min.   :  1.0   Min.   :12.45  \n",
       " 1st Qu.: 10.0   1st Qu.:35.04  \n",
       " Median : 20.0   Median :50.67  \n",
       " Mean   : 23.9   Mean   :50.48  \n",
       " 3rd Qu.: 30.0   3rd Qu.:65.53  \n",
       " Max.   :150.0   Max.   :79.96  "
      ]
     },
     "metadata": {},
     "output_type": "display_data"
    }
   ],
   "source": [
    "summary(cleandata)           #Check the statistical informations"
   ]
  },
  {
   "cell_type": "code",
   "execution_count": 216,
   "id": "b40a8d3e",
   "metadata": {
    "scrolled": true
   },
   "outputs": [
    {
     "data": {
      "text/plain": [
       "\n",
       "\tPearson's product-moment correlation\n",
       "\n",
       "data:  cleandata$Sales and cleandata$Costs\n",
       "t = 522.77, df = 2287, p-value < 2.2e-16\n",
       "alternative hypothesis: true correlation is not equal to 0\n",
       "95 percent confidence interval:\n",
       " 0.9954873 0.9961685\n",
       "sample estimates:\n",
       "      cor \n",
       "0.9958418 \n"
      ]
     },
     "metadata": {},
     "output_type": "display_data"
    }
   ],
   "source": [
    "cor.test(cleandata$Sales, cleandata$Costs)           #Test for correlation between Sales and Cost variables "
   ]
  },
  {
   "cell_type": "markdown",
   "id": "3c9f955a",
   "metadata": {},
   "source": [
    "# The correlation test has statistically proven that there is a strong positive relationship between the Sales and Costs variables so we can now build a model."
   ]
  },
  {
   "cell_type": "code",
   "execution_count": 217,
   "id": "50c1946d",
   "metadata": {
    "scrolled": true
   },
   "outputs": [
    {
     "data": {
      "image/png": "[encoded data removed]",
      "text/plain": [
       "plot without title"
      ]
     },
     "metadata": {
      "image/png": {
       "height": 420,
       "width": 420
      }
     },
     "output_type": "display_data"
    }
   ],
   "source": [
    "plot (Sales ~ Costs, cex = 2.5, data = cleandata)             # Visualize data set"
   ]
  },
  {
   "cell_type": "markdown",
   "id": "fe5e7c10",
   "metadata": {},
   "source": [
    "# The relationship between the Sales and Costs variables is linear so the best model will be the Simple Linear Regression Model"
   ]
  },
  {
   "cell_type": "code",
   "execution_count": 218,
   "id": "37ef6895",
   "metadata": {
    "scrolled": true
   },
   "outputs": [
    {
     "name": "stdout",
     "output_type": "stream",
     "text": [
      "\n",
      "The downloaded binary packages are in\n",
      "\t/var/folders/nq/2glsbgzj51lg_zhnk4ch8hr00000gn/T//RtmpDJS1Zz/downloaded_packages\n"
     ]
    }
   ],
   "source": [
    "install.packages(\"caTools\")             #Install the necessary package to divide data into Train and Test\n",
    "library (caTools)\n",
    "\n",
    "sample.split(cleandata$Sales, SplitRatio = 0.75) -> datadiv \n",
    "\n",
    "subset(cleandata, datadiv == T) -> Traindata           #Training Set\n",
    "subset(cleandata, datadiv == F) -> Testdata            #Testing Set\n"
   ]
  },
  {
   "cell_type": "code",
   "execution_count": 219,
   "id": "f59f3c93",
   "metadata": {
    "scrolled": true
   },
   "outputs": [],
   "source": [
    "modeldata <- lm(Sales ~ Costs, data = Traindata)            #Linear Regression Model build"
   ]
  },
  {
   "cell_type": "code",
   "execution_count": 220,
   "id": "b5899db2",
   "metadata": {
    "scrolled": true
   },
   "outputs": [
    {
     "data": {
      "text/plain": [
       "\n",
       "Call:\n",
       "lm(formula = Sales ~ Costs, data = Traindata)\n",
       "\n",
       "Residuals:\n",
       "     Min       1Q   Median       3Q      Max \n",
       "-2042.25   -26.25   -10.30     5.00  1896.12 \n",
       "\n",
       "Coefficients:\n",
       "             Estimate Std. Error t value Pr(>|t|)    \n",
       "(Intercept) 10.417414   3.498227   2.978  0.00294 ** \n",
       "Costs        1.232510   0.002288 538.799  < 2e-16 ***\n",
       "---\n",
       "Signif. codes:  0 ‘***’ 0.001 ‘**’ 0.01 ‘*’ 0.05 ‘.’ 0.1 ‘ ’ 1\n",
       "\n",
       "Residual standard error: 131.9 on 1714 degrees of freedom\n",
       "Multiple R-squared:  0.9941,\tAdjusted R-squared:  0.9941 \n",
       "F-statistic: 2.903e+05 on 1 and 1714 DF,  p-value: < 2.2e-16\n"
      ]
     },
     "metadata": {},
     "output_type": "display_data"
    }
   ],
   "source": [
    "summary(modeldata)              #Check and confirm some other details about the model"
   ]
  },
  {
   "cell_type": "code",
   "execution_count": 221,
   "id": "4ef1d4b3",
   "metadata": {
    "scrolled": true
   },
   "outputs": [],
   "source": [
    "predict(modeldata, newdata = Testdata) -> pred_data              #Validate on the Testing data set"
   ]
  },
  {
   "cell_type": "code",
   "execution_count": 222,
   "id": "6a208b75",
   "metadata": {
    "scrolled": true
   },
   "outputs": [],
   "source": [
    "cbind(actualvalues = Testdata$Sales, predictedvalues = pred_data) -> modelfinal         #Combine in one dataframe"
   ]
  },
  {
   "cell_type": "code",
   "execution_count": 223,
   "id": "7132f62a",
   "metadata": {
    "scrolled": true
   },
   "outputs": [],
   "source": [
    "as.data.frame(modelfinal) -> modelconf             #Change datatype for computation reason\n",
    "\n",
    "((modelconf$actualvalues - modelconf$predictedvalues) / modelconf$actualvalues ) -> PredError     #Prediction Error\n"
   ]
  },
  {
   "cell_type": "code",
   "execution_count": 224,
   "id": "ad346f15",
   "metadata": {
    "scrolled": true
   },
   "outputs": [
    {
     "data": {
      "text/html": [
       "<table class=\"dataframe\">\n",
       "<caption>A data.frame: 573 × 3</caption>\n",
       "<thead>\n",
       "\t<tr><th></th><th scope=col>actualvalues</th><th scope=col>predictedvalues</th><th scope=col>PredError</th></tr>\n",
       "\t<tr><th></th><th scope=col>&lt;dbl&gt;</th><th scope=col>&lt;dbl&gt;</th><th scope=col>&lt;dbl&gt;</th></tr>\n",
       "</thead>\n",
       "<tbody>\n",
       "\t<tr><th scope=row>8</th><td> 131.40</td><td> 150.34427</td><td>-0.144172546</td></tr>\n",
       "\t<tr><th scope=row>11</th><td> 134.90</td><td> 154.06645</td><td>-0.142078967</td></tr>\n",
       "\t<tr><th scope=row>15</th><td> 203.07</td><td> 217.65164</td><td>-0.071805991</td></tr>\n",
       "\t<tr><th scope=row>17</th><td>4764.24</td><td>4872.41047</td><td>-0.022704665</td></tr>\n",
       "\t<tr><th scope=row>19</th><td> 179.68</td><td> 169.86723</td><td> 0.054612474</td></tr>\n",
       "\t<tr><th scope=row>20</th><td> 262.40</td><td> 278.20486</td><td>-0.060231929</td></tr>\n",
       "\t<tr><th scope=row>28</th><td>  47.49</td><td>  52.22415</td><td>-0.099687360</td></tr>\n",
       "\t<tr><th scope=row>31</th><td>  27.88</td><td>  32.67654</td><td>-0.172042481</td></tr>\n",
       "\t<tr><th scope=row>32</th><td> 385.00</td><td> 408.50581</td><td>-0.061054061</td></tr>\n",
       "\t<tr><th scope=row>49</th><td> 848.40</td><td> 913.31725</td><td>-0.076517271</td></tr>\n",
       "\t<tr><th scope=row>50</th><td> 440.00</td><td> 409.75065</td><td> 0.068748526</td></tr>\n",
       "\t<tr><th scope=row>51</th><td>7797.79</td><td>7087.50206</td><td> 0.091088364</td></tr>\n",
       "\t<tr><th scope=row>60</th><td> 139.44</td><td> 162.00382</td><td>-0.161817390</td></tr>\n",
       "\t<tr><th scope=row>62</th><td> 411.60</td><td> 436.54542</td><td>-0.060605966</td></tr>\n",
       "\t<tr><th scope=row>63</th><td> 485.64</td><td> 538.33842</td><td>-0.108513333</td></tr>\n",
       "\t<tr><th scope=row>72</th><td> 155.17</td><td> 171.06277</td><td>-0.102421636</td></tr>\n",
       "\t<tr><th scope=row>73</th><td>  38.00</td><td>  51.73115</td><td>-0.361346019</td></tr>\n",
       "\t<tr><th scope=row>74</th><td>  88.50</td><td> 106.62714</td><td>-0.204826479</td></tr>\n",
       "\t<tr><th scope=row>85</th><td>  72.75</td><td>  83.04923</td><td>-0.141570136</td></tr>\n",
       "\t<tr><th scope=row>88</th><td> 198.50</td><td> 208.59269</td><td>-0.050844808</td></tr>\n",
       "\t<tr><th scope=row>89</th><td>  54.98</td><td>  70.18182</td><td>-0.276497329</td></tr>\n",
       "\t<tr><th scope=row>91</th><td>  60.48</td><td>  76.15950</td><td>-0.259250936</td></tr>\n",
       "\t<tr><th scope=row>94</th><td> 196.82</td><td> 185.07640</td><td> 0.059666681</td></tr>\n",
       "\t<tr><th scope=row>99</th><td> 126.39</td><td> 125.12712</td><td> 0.009991944</td></tr>\n",
       "\t<tr><th scope=row>104</th><td> 243.89</td><td> 222.13798</td><td> 0.089187835</td></tr>\n",
       "\t<tr><th scope=row>105</th><td> 764.10</td><td> 773.24249</td><td>-0.011965048</td></tr>\n",
       "\t<tr><th scope=row>110</th><td> 343.44</td><td> 360.90628</td><td>-0.050856854</td></tr>\n",
       "\t<tr><th scope=row>112</th><td>  63.55</td><td>  75.27209</td><td>-0.184454593</td></tr>\n",
       "\t<tr><th scope=row>116</th><td>4404.75</td><td>4570.69203</td><td>-0.037673427</td></tr>\n",
       "\t<tr><th scope=row>118</th><td>1292.48</td><td>1386.76131</td><td>-0.072946051</td></tr>\n",
       "\t<tr><th scope=row>⋮</th><td>⋮</td><td>⋮</td><td>⋮</td></tr>\n",
       "\t<tr><th scope=row>2145</th><td> 265.65</td><td> 299.19450</td><td>-0.126273304</td></tr>\n",
       "\t<tr><th scope=row>2146</th><td> 100.92</td><td> 120.12313</td><td>-0.190280695</td></tr>\n",
       "\t<tr><th scope=row>2152</th><td> 205.50</td><td> 215.58103</td><td>-0.049056087</td></tr>\n",
       "\t<tr><th scope=row>2163</th><td> 230.70</td><td> 261.20855</td><td>-0.132243370</td></tr>\n",
       "\t<tr><th scope=row>2165</th><td> 272.72</td><td> 282.67887</td><td>-0.036516828</td></tr>\n",
       "\t<tr><th scope=row>2192</th><td> 262.40</td><td> 278.20486</td><td>-0.060231929</td></tr>\n",
       "\t<tr><th scope=row>2193</th><td>1438.31</td><td>1286.78010</td><td> 0.105352739</td></tr>\n",
       "\t<tr><th scope=row>2194</th><td> 375.60</td><td> 385.39625</td><td>-0.026081606</td></tr>\n",
       "\t<tr><th scope=row>2212</th><td> 419.76</td><td> 429.48313</td><td>-0.023163554</td></tr>\n",
       "\t<tr><th scope=row>2217</th><td> 260.19</td><td> 236.28719</td><td> 0.091866737</td></tr>\n",
       "\t<tr><th scope=row>2219</th><td>  54.74</td><td>  65.06691</td><td>-0.188653758</td></tr>\n",
       "\t<tr><th scope=row>2221</th><td> 848.40</td><td> 913.31725</td><td>-0.076517271</td></tr>\n",
       "\t<tr><th scope=row>2222</th><td> 440.00</td><td> 409.75065</td><td> 0.068748526</td></tr>\n",
       "\t<tr><th scope=row>2225</th><td> 551.32</td><td> 510.77949</td><td> 0.073533534</td></tr>\n",
       "\t<tr><th scope=row>2233</th><td>1572.00</td><td>1719.29251</td><td>-0.093697523</td></tr>\n",
       "\t<tr><th scope=row>2235</th><td> 485.64</td><td> 538.33842</td><td>-0.108513333</td></tr>\n",
       "\t<tr><th scope=row>2239</th><td>  89.10</td><td> 107.28037</td><td>-0.204044598</td></tr>\n",
       "\t<tr><th scope=row>2241</th><td> 516.81</td><td> 498.94740</td><td> 0.034563193</td></tr>\n",
       "\t<tr><th scope=row>2244</th><td> 155.17</td><td> 171.06277</td><td>-0.102421636</td></tr>\n",
       "\t<tr><th scope=row>2251</th><td> 122.76</td><td> 143.86127</td><td>-0.171890436</td></tr>\n",
       "\t<tr><th scope=row>2252</th><td>1683.28</td><td>1673.91149</td><td> 0.005565629</td></tr>\n",
       "\t<tr><th scope=row>2256</th><td> 147.75</td><td> 167.75964</td><td>-0.135429026</td></tr>\n",
       "\t<tr><th scope=row>2260</th><td> 198.50</td><td> 208.59269</td><td>-0.050844808</td></tr>\n",
       "\t<tr><th scope=row>2264</th><td> 121.00</td><td> 141.95088</td><td>-0.173147764</td></tr>\n",
       "\t<tr><th scope=row>2269</th><td> 213.40</td><td> 204.09403</td><td> 0.043608093</td></tr>\n",
       "\t<tr><th scope=row>2274</th><td>1640.25</td><td>1647.93018</td><td>-0.004682322</td></tr>\n",
       "\t<tr><th scope=row>2280</th><td> 390.80</td><td> 458.00341</td><td>-0.171963701</td></tr>\n",
       "\t<tr><th scope=row>2281</th><td> 268.00</td><td> 301.75812</td><td>-0.125963149</td></tr>\n",
       "\t<tr><th scope=row>2282</th><td> 343.44</td><td> 360.90628</td><td>-0.050856854</td></tr>\n",
       "\t<tr><th scope=row>2284</th><td>  63.55</td><td>  75.27209</td><td>-0.184454593</td></tr>\n",
       "</tbody>\n",
       "</table>\n"
      ],
      "text/latex": [
       "A data.frame: 573 × 3\n",
       "\\begin{tabular}{r|lll}\n",
       "  & actualvalues & predictedvalues & PredError\\\\\n",
       "  & <dbl> & <dbl> & <dbl>\\\\\n",
       "\\hline\n",
       "\t8 &  131.40 &  150.34427 & -0.144172546\\\\\n",
       "\t11 &  134.90 &  154.06645 & -0.142078967\\\\\n",
       "\t15 &  203.07 &  217.65164 & -0.071805991\\\\\n",
       "\t17 & 4764.24 & 4872.41047 & -0.022704665\\\\\n",
       "\t19 &  179.68 &  169.86723 &  0.054612474\\\\\n",
       "\t20 &  262.40 &  278.20486 & -0.060231929\\\\\n",
       "\t28 &   47.49 &   52.22415 & -0.099687360\\\\\n",
       "\t31 &   27.88 &   32.67654 & -0.172042481\\\\\n",
       "\t32 &  385.00 &  408.50581 & -0.061054061\\\\\n",
       "\t49 &  848.40 &  913.31725 & -0.076517271\\\\\n",
       "\t50 &  440.00 &  409.75065 &  0.068748526\\\\\n",
       "\t51 & 7797.79 & 7087.50206 &  0.091088364\\\\\n",
       "\t60 &  139.44 &  162.00382 & -0.161817390\\\\\n",
       "\t62 &  411.60 &  436.54542 & -0.060605966\\\\\n",
       "\t63 &  485.64 &  538.33842 & -0.108513333\\\\\n",
       "\t72 &  155.17 &  171.06277 & -0.102421636\\\\\n",
       "\t73 &   38.00 &   51.73115 & -0.361346019\\\\\n",
       "\t74 &   88.50 &  106.62714 & -0.204826479\\\\\n",
       "\t85 &   72.75 &   83.04923 & -0.141570136\\\\\n",
       "\t88 &  198.50 &  208.59269 & -0.050844808\\\\\n",
       "\t89 &   54.98 &   70.18182 & -0.276497329\\\\\n",
       "\t91 &   60.48 &   76.15950 & -0.259250936\\\\\n",
       "\t94 &  196.82 &  185.07640 &  0.059666681\\\\\n",
       "\t99 &  126.39 &  125.12712 &  0.009991944\\\\\n",
       "\t104 &  243.89 &  222.13798 &  0.089187835\\\\\n",
       "\t105 &  764.10 &  773.24249 & -0.011965048\\\\\n",
       "\t110 &  343.44 &  360.90628 & -0.050856854\\\\\n",
       "\t112 &   63.55 &   75.27209 & -0.184454593\\\\\n",
       "\t116 & 4404.75 & 4570.69203 & -0.037673427\\\\\n",
       "\t118 & 1292.48 & 1386.76131 & -0.072946051\\\\\n",
       "\t⋮ & ⋮ & ⋮ & ⋮\\\\\n",
       "\t2145 &  265.65 &  299.19450 & -0.126273304\\\\\n",
       "\t2146 &  100.92 &  120.12313 & -0.190280695\\\\\n",
       "\t2152 &  205.50 &  215.58103 & -0.049056087\\\\\n",
       "\t2163 &  230.70 &  261.20855 & -0.132243370\\\\\n",
       "\t2165 &  272.72 &  282.67887 & -0.036516828\\\\\n",
       "\t2192 &  262.40 &  278.20486 & -0.060231929\\\\\n",
       "\t2193 & 1438.31 & 1286.78010 &  0.105352739\\\\\n",
       "\t2194 &  375.60 &  385.39625 & -0.026081606\\\\\n",
       "\t2212 &  419.76 &  429.48313 & -0.023163554\\\\\n",
       "\t2217 &  260.19 &  236.28719 &  0.091866737\\\\\n",
       "\t2219 &   54.74 &   65.06691 & -0.188653758\\\\\n",
       "\t2221 &  848.40 &  913.31725 & -0.076517271\\\\\n",
       "\t2222 &  440.00 &  409.75065 &  0.068748526\\\\\n",
       "\t2225 &  551.32 &  510.77949 &  0.073533534\\\\\n",
       "\t2233 & 1572.00 & 1719.29251 & -0.093697523\\\\\n",
       "\t2235 &  485.64 &  538.33842 & -0.108513333\\\\\n",
       "\t2239 &   89.10 &  107.28037 & -0.204044598\\\\\n",
       "\t2241 &  516.81 &  498.94740 &  0.034563193\\\\\n",
       "\t2244 &  155.17 &  171.06277 & -0.102421636\\\\\n",
       "\t2251 &  122.76 &  143.86127 & -0.171890436\\\\\n",
       "\t2252 & 1683.28 & 1673.91149 &  0.005565629\\\\\n",
       "\t2256 &  147.75 &  167.75964 & -0.135429026\\\\\n",
       "\t2260 &  198.50 &  208.59269 & -0.050844808\\\\\n",
       "\t2264 &  121.00 &  141.95088 & -0.173147764\\\\\n",
       "\t2269 &  213.40 &  204.09403 &  0.043608093\\\\\n",
       "\t2274 & 1640.25 & 1647.93018 & -0.004682322\\\\\n",
       "\t2280 &  390.80 &  458.00341 & -0.171963701\\\\\n",
       "\t2281 &  268.00 &  301.75812 & -0.125963149\\\\\n",
       "\t2282 &  343.44 &  360.90628 & -0.050856854\\\\\n",
       "\t2284 &   63.55 &   75.27209 & -0.184454593\\\\\n",
       "\\end{tabular}\n"
      ],
      "text/markdown": [
       "\n",
       "A data.frame: 573 × 3\n",
       "\n",
       "| <!--/--> | actualvalues &lt;dbl&gt; | predictedvalues &lt;dbl&gt; | PredError &lt;dbl&gt; |\n",
       "|---|---|---|---|\n",
       "| 8 |  131.40 |  150.34427 | -0.144172546 |\n",
       "| 11 |  134.90 |  154.06645 | -0.142078967 |\n",
       "| 15 |  203.07 |  217.65164 | -0.071805991 |\n",
       "| 17 | 4764.24 | 4872.41047 | -0.022704665 |\n",
       "| 19 |  179.68 |  169.86723 |  0.054612474 |\n",
       "| 20 |  262.40 |  278.20486 | -0.060231929 |\n",
       "| 28 |   47.49 |   52.22415 | -0.099687360 |\n",
       "| 31 |   27.88 |   32.67654 | -0.172042481 |\n",
       "| 32 |  385.00 |  408.50581 | -0.061054061 |\n",
       "| 49 |  848.40 |  913.31725 | -0.076517271 |\n",
       "| 50 |  440.00 |  409.75065 |  0.068748526 |\n",
       "| 51 | 7797.79 | 7087.50206 |  0.091088364 |\n",
       "| 60 |  139.44 |  162.00382 | -0.161817390 |\n",
       "| 62 |  411.60 |  436.54542 | -0.060605966 |\n",
       "| 63 |  485.64 |  538.33842 | -0.108513333 |\n",
       "| 72 |  155.17 |  171.06277 | -0.102421636 |\n",
       "| 73 |   38.00 |   51.73115 | -0.361346019 |\n",
       "| 74 |   88.50 |  106.62714 | -0.204826479 |\n",
       "| 85 |   72.75 |   83.04923 | -0.141570136 |\n",
       "| 88 |  198.50 |  208.59269 | -0.050844808 |\n",
       "| 89 |   54.98 |   70.18182 | -0.276497329 |\n",
       "| 91 |   60.48 |   76.15950 | -0.259250936 |\n",
       "| 94 |  196.82 |  185.07640 |  0.059666681 |\n",
       "| 99 |  126.39 |  125.12712 |  0.009991944 |\n",
       "| 104 |  243.89 |  222.13798 |  0.089187835 |\n",
       "| 105 |  764.10 |  773.24249 | -0.011965048 |\n",
       "| 110 |  343.44 |  360.90628 | -0.050856854 |\n",
       "| 112 |   63.55 |   75.27209 | -0.184454593 |\n",
       "| 116 | 4404.75 | 4570.69203 | -0.037673427 |\n",
       "| 118 | 1292.48 | 1386.76131 | -0.072946051 |\n",
       "| ⋮ | ⋮ | ⋮ | ⋮ |\n",
       "| 2145 |  265.65 |  299.19450 | -0.126273304 |\n",
       "| 2146 |  100.92 |  120.12313 | -0.190280695 |\n",
       "| 2152 |  205.50 |  215.58103 | -0.049056087 |\n",
       "| 2163 |  230.70 |  261.20855 | -0.132243370 |\n",
       "| 2165 |  272.72 |  282.67887 | -0.036516828 |\n",
       "| 2192 |  262.40 |  278.20486 | -0.060231929 |\n",
       "| 2193 | 1438.31 | 1286.78010 |  0.105352739 |\n",
       "| 2194 |  375.60 |  385.39625 | -0.026081606 |\n",
       "| 2212 |  419.76 |  429.48313 | -0.023163554 |\n",
       "| 2217 |  260.19 |  236.28719 |  0.091866737 |\n",
       "| 2219 |   54.74 |   65.06691 | -0.188653758 |\n",
       "| 2221 |  848.40 |  913.31725 | -0.076517271 |\n",
       "| 2222 |  440.00 |  409.75065 |  0.068748526 |\n",
       "| 2225 |  551.32 |  510.77949 |  0.073533534 |\n",
       "| 2233 | 1572.00 | 1719.29251 | -0.093697523 |\n",
       "| 2235 |  485.64 |  538.33842 | -0.108513333 |\n",
       "| 2239 |   89.10 |  107.28037 | -0.204044598 |\n",
       "| 2241 |  516.81 |  498.94740 |  0.034563193 |\n",
       "| 2244 |  155.17 |  171.06277 | -0.102421636 |\n",
       "| 2251 |  122.76 |  143.86127 | -0.171890436 |\n",
       "| 2252 | 1683.28 | 1673.91149 |  0.005565629 |\n",
       "| 2256 |  147.75 |  167.75964 | -0.135429026 |\n",
       "| 2260 |  198.50 |  208.59269 | -0.050844808 |\n",
       "| 2264 |  121.00 |  141.95088 | -0.173147764 |\n",
       "| 2269 |  213.40 |  204.09403 |  0.043608093 |\n",
       "| 2274 | 1640.25 | 1647.93018 | -0.004682322 |\n",
       "| 2280 |  390.80 |  458.00341 | -0.171963701 |\n",
       "| 2281 |  268.00 |  301.75812 | -0.125963149 |\n",
       "| 2282 |  343.44 |  360.90628 | -0.050856854 |\n",
       "| 2284 |   63.55 |   75.27209 | -0.184454593 |\n",
       "\n"
      ],
      "text/plain": [
       "     actualvalues predictedvalues PredError   \n",
       "8     131.40       150.34427      -0.144172546\n",
       "11    134.90       154.06645      -0.142078967\n",
       "15    203.07       217.65164      -0.071805991\n",
       "17   4764.24      4872.41047      -0.022704665\n",
       "19    179.68       169.86723       0.054612474\n",
       "20    262.40       278.20486      -0.060231929\n",
       "28     47.49        52.22415      -0.099687360\n",
       "31     27.88        32.67654      -0.172042481\n",
       "32    385.00       408.50581      -0.061054061\n",
       "49    848.40       913.31725      -0.076517271\n",
       "50    440.00       409.75065       0.068748526\n",
       "51   7797.79      7087.50206       0.091088364\n",
       "60    139.44       162.00382      -0.161817390\n",
       "62    411.60       436.54542      -0.060605966\n",
       "63    485.64       538.33842      -0.108513333\n",
       "72    155.17       171.06277      -0.102421636\n",
       "73     38.00        51.73115      -0.361346019\n",
       "74     88.50       106.62714      -0.204826479\n",
       "85     72.75        83.04923      -0.141570136\n",
       "88    198.50       208.59269      -0.050844808\n",
       "89     54.98        70.18182      -0.276497329\n",
       "91     60.48        76.15950      -0.259250936\n",
       "94    196.82       185.07640       0.059666681\n",
       "99    126.39       125.12712       0.009991944\n",
       "104   243.89       222.13798       0.089187835\n",
       "105   764.10       773.24249      -0.011965048\n",
       "110   343.44       360.90628      -0.050856854\n",
       "112    63.55        75.27209      -0.184454593\n",
       "116  4404.75      4570.69203      -0.037673427\n",
       "118  1292.48      1386.76131      -0.072946051\n",
       "⋮    ⋮            ⋮               ⋮           \n",
       "2145  265.65       299.19450      -0.126273304\n",
       "2146  100.92       120.12313      -0.190280695\n",
       "2152  205.50       215.58103      -0.049056087\n",
       "2163  230.70       261.20855      -0.132243370\n",
       "2165  272.72       282.67887      -0.036516828\n",
       "2192  262.40       278.20486      -0.060231929\n",
       "2193 1438.31      1286.78010       0.105352739\n",
       "2194  375.60       385.39625      -0.026081606\n",
       "2212  419.76       429.48313      -0.023163554\n",
       "2217  260.19       236.28719       0.091866737\n",
       "2219   54.74        65.06691      -0.188653758\n",
       "2221  848.40       913.31725      -0.076517271\n",
       "2222  440.00       409.75065       0.068748526\n",
       "2225  551.32       510.77949       0.073533534\n",
       "2233 1572.00      1719.29251      -0.093697523\n",
       "2235  485.64       538.33842      -0.108513333\n",
       "2239   89.10       107.28037      -0.204044598\n",
       "2241  516.81       498.94740       0.034563193\n",
       "2244  155.17       171.06277      -0.102421636\n",
       "2251  122.76       143.86127      -0.171890436\n",
       "2252 1683.28      1673.91149       0.005565629\n",
       "2256  147.75       167.75964      -0.135429026\n",
       "2260  198.50       208.59269      -0.050844808\n",
       "2264  121.00       141.95088      -0.173147764\n",
       "2269  213.40       204.09403       0.043608093\n",
       "2274 1640.25      1647.93018      -0.004682322\n",
       "2280  390.80       458.00341      -0.171963701\n",
       "2281  268.00       301.75812      -0.125963149\n",
       "2282  343.44       360.90628      -0.050856854\n",
       "2284   63.55        75.27209      -0.184454593"
      ]
     },
     "metadata": {},
     "output_type": "display_data"
    }
   ],
   "source": [
    "cbind(modelconf, PredError) -> finalset            #Combine dataframes together \n",
    "\n",
    "finalset           #Display combined results"
   ]
  },
  {
   "cell_type": "code",
   "execution_count": 225,
   "id": "0b7863ff",
   "metadata": {
    "scrolled": true
   },
   "outputs": [
    {
     "data": {
      "image/png": "[encoded data removed]",
      "text/plain": [
       "plot without title"
      ]
     },
     "metadata": {
      "image/png": {
       "height": 420,
       "width": 420
      }
     },
     "output_type": "display_data"
    }
   ],
   "source": [
    "plot (Sales ~ Costs, cex = 2.5, pch = 16, data = Testdata)         #Plot the Sales, Costs, and the Predicted Sales \n",
    "abline(modeldata, cex = 3, col = \"red\")"
   ]
  },
  {
   "cell_type": "markdown",
   "id": "00d12142",
   "metadata": {},
   "source": [
    "# Based on our graph and predicted values, we could see the model is able to perfectly predict the Sales using the Costs and with less than 1% error.  "
   ]
  },
  {
   "cell_type": "code",
   "execution_count": null,
   "id": "bedf4a9c",
   "metadata": {
    "scrolled": true
   },
   "outputs": [],
   "source": []
  }
 ],
 "metadata": {
  "kernelspec": {
   "display_name": "R",
   "language": "R",
   "name": "ir"
  },
  "language_info": {
   "codemirror_mode": "r",
   "file_extension": ".r",
   "mimetype": "text/x-r-source",
   "name": "R",
   "pygments_lexer": "r",
   "version": "4.1.2"
  }
 },
 "nbformat": 4,
 "nbformat_minor": 5
}
